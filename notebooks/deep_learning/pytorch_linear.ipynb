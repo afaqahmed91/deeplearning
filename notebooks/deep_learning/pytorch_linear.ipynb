{
 "cells": [
  {
   "cell_type": "markdown",
   "metadata": {},
   "source": [
    "# Deep learning with Pytorch\n"
   ]
  },
  {
   "cell_type": "code",
   "execution_count": 2,
   "metadata": {},
   "outputs": [],
   "source": [
    "import torch\n",
    "from matplotlib import pyplot as plt\n",
    "import torchvision\n",
    "import numpy as np"
   ]
  },
  {
   "cell_type": "code",
   "execution_count": 3,
   "metadata": {},
   "outputs": [
    {
     "data": {
      "text/plain": [
       "device(type='cpu')"
      ]
     },
     "execution_count": 3,
     "metadata": {},
     "output_type": "execute_result"
    }
   ],
   "source": [
    "# select the device (in most cases it will be CPU)\n",
    "\n",
    "device = torch.device(\"cuda\" if torch.cuda.is_available() else \"cpu\")\n",
    "device"
   ]
  },
  {
   "cell_type": "code",
   "execution_count": 4,
   "metadata": {},
   "outputs": [],
   "source": [
    "# Hyper-parameters\n",
    "\n",
    "input_size = 784  # no. of input nodes\n",
    "hidden_layer_size = 500\n",
    "num_classes = 10  # 10 potential outputs (digits)\n",
    "num_epochs = 2\n",
    "batch_size = 100\n",
    "learning_rate = 0.001"
   ]
  },
  {
   "cell_type": "markdown",
   "metadata": {},
   "source": [
    "## load Train and Testing Data\n"
   ]
  },
  {
   "cell_type": "code",
   "execution_count": 5,
   "metadata": {},
   "outputs": [],
   "source": [
    "train_dataset = torchvision.datasets.MNIST(\n",
    "    root=\"../data/external\",\n",
    "    train=True,\n",
    "    transform=torchvision.transforms.ToTensor(),\n",
    "    download=True,\n",
    ")"
   ]
  },
  {
   "cell_type": "code",
   "execution_count": 6,
   "metadata": {},
   "outputs": [],
   "source": [
    "test_dataset = torchvision.datasets.MNIST(\n",
    "    root=\"../data/external\", train=False, transform=torchvision.transforms.ToTensor()\n",
    ")"
   ]
  },
  {
   "cell_type": "markdown",
   "metadata": {},
   "source": [
    "## data loader\n"
   ]
  },
  {
   "cell_type": "code",
   "execution_count": 7,
   "metadata": {},
   "outputs": [],
   "source": [
    "train_loader = torch.utils.data.DataLoader(\n",
    "    dataset=train_dataset, batch_size=batch_size, shuffle=True\n",
    ")\n",
    "test_loader = torch.utils.data.DataLoader(\n",
    "    dataset=test_dataset, batch_size=batch_size, shuffle=False\n",
    ")"
   ]
  },
  {
   "cell_type": "code",
   "execution_count": 8,
   "metadata": {},
   "outputs": [
    {
     "data": {
      "image/png": "[encoded data removed]",
      "text/plain": [
       "<Figure size 640x480 with 6 Axes>"
      ]
     },
     "metadata": {},
     "output_type": "display_data"
    }
   ],
   "source": [
    "# Plot an example from the dataset\n",
    "i = 0\n",
    "fig, ax = plt.subplots(2, 3)\n",
    "for (images, labels), axes in zip(test_loader, fig.axes):\n",
    "    images = images[0]  # Take the first image\n",
    "    labels = labels[0]  # Take the corresponding label\n",
    "    axes.imshow(images.squeeze().numpy(), cmap=\"gray\")\n",
    "    axes.set_title(f\"Label: {labels.item()}\")\n",
    "    i += 1\n",
    "    if i > 5:\n",
    "        break  # Break after plotting the first example"
   ]
  },
  {
   "cell_type": "code",
   "execution_count": 9,
   "metadata": {},
   "outputs": [
    {
     "data": {
      "text/plain": [
       "784"
      ]
     },
     "execution_count": 9,
     "metadata": {},
     "output_type": "execute_result"
    }
   ],
   "source": [
    "len(images.reshape(28 * 28))"
   ]
  },
  {
   "cell_type": "markdown",
   "metadata": {},
   "source": [
    "## Pytorch Pipeline\n"
   ]
  },
  {
   "cell_type": "code",
   "execution_count": 10,
   "metadata": {},
   "outputs": [],
   "source": [
    "class NeuralNet(torch.nn.Module):\n",
    "    # fully connected Model with one hidden layer and one ReLU activation function\n",
    "    def __init__(self, input_size, hidden_layer_size, num_classes):\n",
    "        super().__init__()\n",
    "        self.network = torch.nn.Sequential(\n",
    "            torch.nn.Linear(input_size, hidden_layer_size),\n",
    "            torch.nn.ReLU(),\n",
    "            torch.nn.Linear(hidden_layer_size, num_classes),\n",
    "        )\n",
    "\n",
    "    def forward(self, x: torch.Tensor):\n",
    "        return self.network(x)"
   ]
  },
  {
   "cell_type": "code",
   "execution_count": 11,
   "metadata": {},
   "outputs": [],
   "source": [
    "model = NeuralNet(\n",
    "    input_size=input_size,\n",
    "    hidden_layer_size=hidden_layer_size,\n",
    "    num_classes=num_classes,\n",
    ")"
   ]
  },
  {
   "cell_type": "markdown",
   "metadata": {},
   "source": [
    "### Loss Optimier\n"
   ]
  },
  {
   "cell_type": "code",
   "execution_count": 12,
   "metadata": {},
   "outputs": [],
   "source": [
    "criterion = (\n",
    "    torch.nn.CrossEntropyLoss()\n",
    ")  # loss function good for multiclass classification\n",
    "optimizer = torch.optim.Adam(model.parameters(), lr=learning_rate)"
   ]
  },
  {
   "cell_type": "markdown",
   "metadata": {},
   "source": [
    "## Traning the model\n"
   ]
  },
  {
   "cell_type": "code",
   "execution_count": 13,
   "metadata": {},
   "outputs": [
    {
     "name": "stdout",
     "output_type": "stream",
     "text": [
      "Epoch [1/2], Step [100/600], Loss = 0.21554304659366608\n",
      "Epoch [1/2], Step [200/600], Loss = 0.2827892601490021\n",
      "Epoch [1/2], Step [300/600], Loss = 0.19034714996814728\n",
      "Epoch [1/2], Step [400/600], Loss = 0.3428206741809845\n",
      "Epoch [1/2], Step [500/600], Loss = 0.18373340368270874\n",
      "Epoch [1/2], Step [600/600], Loss = 0.07616527378559113\n",
      "Epoch [2/2], Step [100/600], Loss = 0.04785311594605446\n",
      "Epoch [2/2], Step [200/600], Loss = 0.12369593977928162\n",
      "Epoch [2/2], Step [300/600], Loss = 0.1800146847963333\n",
      "Epoch [2/2], Step [400/600], Loss = 0.05109356716275215\n",
      "Epoch [2/2], Step [500/600], Loss = 0.09983665496110916\n",
      "Epoch [2/2], Step [600/600], Loss = 0.09103183448314667\n"
     ]
    }
   ],
   "source": [
    "n_total_steps = len(train_loader)\n",
    "for epoch in range(num_epochs):\n",
    "    for i, (images, labels) in enumerate(train_loader):\n",
    "        images = images.reshape(-1, 28 * 28)  # flatten the image\n",
    "\n",
    "        # forward pass\n",
    "        output = model.forward(images)\n",
    "        # loss calculation\n",
    "        loss: torch.nn.CrossEntropyLoss = criterion(output, labels)\n",
    "\n",
    "        # backward pass\n",
    "\n",
    "        # calculate the gradient\n",
    "        loss.backward()\n",
    "\n",
    "        # update the weights\n",
    "        optimizer.step()\n",
    "\n",
    "        # zero the gradients after updating\n",
    "        optimizer.zero_grad()\n",
    "\n",
    "        if (i + 1) % 100 == 0:\n",
    "            print(\n",
    "                f\"Epoch [{epoch+1}/{num_epochs}], Step [{i+1}/{n_total_steps}], Loss = {loss}\"\n",
    "            )"
   ]
  },
  {
   "cell_type": "markdown",
   "metadata": {},
   "source": [
    "## Testing Model\n"
   ]
  },
  {
   "cell_type": "code",
   "execution_count": 14,
   "metadata": {},
   "outputs": [
    {
     "name": "stdout",
     "output_type": "stream",
     "text": [
      "Accuracy of model on 10000 test images: 97.02\n"
     ]
    }
   ],
   "source": [
    "with torch.no_grad():\n",
    "    no_correct = 0\n",
    "    n_samples = len(test_loader.dataset)\n",
    "    for images, labels in test_loader:\n",
    "        images = images.reshape(-1, 28 * 28)\n",
    "\n",
    "        output = model.forward(images)\n",
    "        # max returns (output_value, index)\n",
    "        _, predicted = torch.max(output, 1)\n",
    "        no_correct += (predicted == labels).sum().item()\n",
    "\n",
    "print(f\"Accuracy of model on {n_samples} test images: {(no_correct/n_samples)*100}\")"
   ]
  }
 ],
 "metadata": {
  "kernelspec": {
   "display_name": ".venv",
   "language": "python",
   "name": "python3"
  },
  "language_info": {
   "codemirror_mode": {
    "name": "ipython",
    "version": 3
   },
   "file_extension": ".py",
   "mimetype": "text/x-python",
   "name": "python",
   "nbconvert_exporter": "python",
   "pygments_lexer": "ipython3",
   "version": "3.12.2"
  }
 },
 "nbformat": 4,
 "nbformat_minor": 2
}
