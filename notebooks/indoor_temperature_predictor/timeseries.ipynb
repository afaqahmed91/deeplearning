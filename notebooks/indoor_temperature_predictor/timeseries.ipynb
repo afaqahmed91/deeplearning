{
 "cells": [
  {
   "cell_type": "markdown",
   "metadata": {},
   "source": [
    "# TimeSeries Analysis using ARIMA SARIMA \n",
    "\n",
    "`Stationary Datasets`:A time series dataset is considered stationary if its statistical properties, such as mean, variance, and autocorrelation, are constant over time. \n",
    "\n",
    "Examples:\n",
    "White noise series: A sequence of random variables with a constant mean and variance.\n",
    "\n",
    "`Non-Stationary Datasets`: A time series dataset is non-stationary if its statistical properties change over time. \n",
    "\n",
    "Types of Non-Stationarity:\n",
    "Trend Stationarity: The series has a deterministic trend (e.g., linear or polynomial trend) but becomes stationary once the trend is removed.\n",
    "Difference Stationarity: The series can be made stationary by differencing (e.g., subtracting the previous value from the current value)."
   ]
  },
  {
   "cell_type": "code",
   "execution_count": 7,
   "metadata": {},
   "outputs": [],
   "source": [
    "%load_ext autoreload\n",
    "%autoreload 2"
   ]
  },
  {
   "cell_type": "code",
   "execution_count": 1,
   "metadata": {},
   "outputs": [],
   "source": [
    "# add the path to the root folder\n",
    "path_to_main = \"../../\""
   ]
  },
  {
   "cell_type": "code",
   "execution_count": 2,
   "metadata": {},
   "outputs": [],
   "source": [
    "import sys\n",
    "\n",
    "sys.path.append(path_to_main)"
   ]
  },
  {
   "cell_type": "code",
   "execution_count": 3,
   "metadata": {},
   "outputs": [],
   "source": [
    "import pandas as pd\n",
    "from src.data.load_traning_data import load, combine\n",
    "import numpy as np\n",
    "from matplotlib import pyplot as plt"
   ]
  },
  {
   "cell_type": "code",
   "execution_count": 4,
   "metadata": {},
   "outputs": [],
   "source": [
    "from sklearn.model_selection import train_test_split"
   ]
  },
  {
   "cell_type": "code",
   "execution_count": 5,
   "metadata": {},
   "outputs": [],
   "source": [
    "data = load(path_to_data_folder=path_to_main)\n",
    "combined_df = combine(data)\n",
    "combine_X = combined_df.drop(\"ZAT\", axis=1)\n",
    "Y = combined_df[\"ZAT\"]"
   ]
  },
  {
   "cell_type": "code",
   "execution_count": 6,
   "metadata": {},
   "outputs": [],
   "source": [
    "X_train = combine_X.loc[:\"2023-12-31\"]\n",
    "X_test = combine_X.loc[\"2024-01-01\":]\n",
    "y_train = Y.loc[:\"2023-12-31\"]\n",
    "y_test = Y.loc[\"2024-01-01\":]"
   ]
  },
  {
   "cell_type": "code",
   "execution_count": null,
   "metadata": {},
   "outputs": [],
   "source": []
  }
 ],
 "metadata": {
  "kernelspec": {
   "display_name": ".venv",
   "language": "python",
   "name": "python3"
  },
  "language_info": {
   "codemirror_mode": {
    "name": "ipython",
    "version": 3
   },
   "file_extension": ".py",
   "mimetype": "text/x-python",
   "name": "python",
   "nbconvert_exporter": "python",
   "pygments_lexer": "ipython3",
   "version": "3.12.2"
  }
 },
 "nbformat": 4,
 "nbformat_minor": 2
}
